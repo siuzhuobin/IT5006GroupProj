{
 "cells": [
  {
   "cell_type": "code",
   "execution_count": 8,
   "id": "19de9ab1",
   "metadata": {},
   "outputs": [],
   "source": [
    "from ucimlrepo import fetch_ucirepo, list_available_datasets\n",
    "from pathlib import Path \n",
    "\n",
    "# check if diabetes.csv exists in the current folder. if it does not, pull from the repo \n",
    "\n",
    "if not Path(\"diabetes.csv\").exists(): \n",
    "    repo_all = fetch_ucirepo(id = 296)\n",
    "    repo_all.data.original.to_csv('diabetes.csv', index=False)\n"
   ]
  },
  {
   "cell_type": "code",
   "execution_count": 9,
   "id": "bb4c53ac",
   "metadata": {},
   "outputs": [
    {
     "name": "stderr",
     "output_type": "stream",
     "text": [
      "C:\\Users\\Owner\\AppData\\Local\\Temp\\ipykernel_1524\\1057861120.py:3: DtypeWarning: Columns (10) have mixed types. Specify dtype option on import or set low_memory=False.\n",
      "  diabetes = pd.read_csv(\"diabetes.csv\")\n"
     ]
    }
   ],
   "source": [
    "import pandas as pd \n",
    "\n",
    "diabetes = pd.read_csv(\"diabetes.csv\")"
   ]
  },
  {
   "cell_type": "code",
   "execution_count": 10,
   "id": "1c4a23c4",
   "metadata": {},
   "outputs": [
    {
     "name": "stdout",
     "output_type": "stream",
     "text": [
      "50\n"
     ]
    }
   ],
   "source": [
    "# ok let's work through all the columns, and see what they are like \n",
    "column_list = list(diabetes.columns)\n",
    "print(len(column_list))"
   ]
  },
  {
   "cell_type": "code",
   "execution_count": 11,
   "id": "4979c93d",
   "metadata": {},
   "outputs": [
    {
     "name": "stdout",
     "output_type": "stream",
     "text": [
      "int64\n",
      "['encounter_id', 'patient_nbr']\n"
     ]
    }
   ],
   "source": [
    "col = diabetes[column_list[0]]\n",
    "print(col.dtype)\n",
    "# column 2 are integers, which is also fine. keep. \n",
    "int_columns = column_list[0:2]\n",
    "print(int_columns)"
   ]
  },
  {
   "cell_type": "code",
   "execution_count": 12,
   "id": "0af47c6a",
   "metadata": {},
   "outputs": [
    {
     "name": "stdout",
     "output_type": "stream",
     "text": [
      "object\n"
     ]
    },
    {
     "data": {
      "application/vnd.microsoft.datawrangler.viewer.v0+json": {
       "columns": [
        {
         "name": "race",
         "rawType": "object",
         "type": "unknown"
        },
        {
         "name": "count",
         "rawType": "int64",
         "type": "integer"
        }
       ],
       "ref": "22c18b7a-4052-457a-8dc7-a737a554b65f",
       "rows": [
        [
         "Caucasian",
         "76099"
        ],
        [
         "AfricanAmerican",
         "19210"
        ],
        [
         null,
         "2273"
        ],
        [
         "Hispanic",
         "2037"
        ],
        [
         "Other",
         "1506"
        ],
        [
         "Asian",
         "641"
        ]
       ],
       "shape": {
        "columns": 1,
        "rows": 6
       }
      },
      "text/plain": [
       "race\n",
       "Caucasian          76099\n",
       "AfricanAmerican    19210\n",
       "NaN                 2273\n",
       "Hispanic            2037\n",
       "Other               1506\n",
       "Asian                641\n",
       "Name: count, dtype: int64"
      ]
     },
     "execution_count": 12,
     "metadata": {},
     "output_type": "execute_result"
    }
   ],
   "source": [
    "col = diabetes[column_list[2]]\n",
    "print(col.dtype)\n",
    "col.value_counts(dropna=False)\n"
   ]
  },
  {
   "cell_type": "code",
   "execution_count": 13,
   "id": "e041ed06",
   "metadata": {},
   "outputs": [],
   "source": [
    "# ok so only a small porportion of the data is missing. We can afford to drop the rows missing the gender data \n",
    "\n",
    "retain_rows = ~ col.isna()\n",
    "string_columns = [column_list[2]]"
   ]
  },
  {
   "cell_type": "code",
   "execution_count": 14,
   "id": "b7109057",
   "metadata": {},
   "outputs": [
    {
     "name": "stdout",
     "output_type": "stream",
     "text": [
      "object\n"
     ]
    },
    {
     "data": {
      "application/vnd.microsoft.datawrangler.viewer.v0+json": {
       "columns": [
        {
         "name": "gender",
         "rawType": "object",
         "type": "string"
        },
        {
         "name": "count",
         "rawType": "int64",
         "type": "integer"
        }
       ],
       "ref": "5f4726ee-1306-482d-8ae4-c4095ba408a1",
       "rows": [
        [
         "Female",
         "54708"
        ],
        [
         "Male",
         "47055"
        ],
        [
         "Unknown/Invalid",
         "3"
        ]
       ],
       "shape": {
        "columns": 1,
        "rows": 3
       }
      },
      "text/plain": [
       "gender\n",
       "Female             54708\n",
       "Male               47055\n",
       "Unknown/Invalid        3\n",
       "Name: count, dtype: int64"
      ]
     },
     "execution_count": 14,
     "metadata": {},
     "output_type": "execute_result"
    }
   ],
   "source": [
    "col = diabetes[column_list[3]]\n",
    "col.head()\n",
    "print(col.dtype)\n",
    "col.value_counts(dropna = False)\n",
    "\n",
    "# ok only 3 unknown or invalid, which we can remove "
   ]
  },
  {
   "cell_type": "code",
   "execution_count": 15,
   "id": "c3da37a0",
   "metadata": {},
   "outputs": [],
   "source": [
    "retain_rows = (retain_rows) & (col != 'Unknown/Invalid')"
   ]
  },
  {
   "cell_type": "code",
   "execution_count": 16,
   "id": "1417ef34",
   "metadata": {},
   "outputs": [
    {
     "data": {
      "application/vnd.microsoft.datawrangler.viewer.v0+json": {
       "columns": [
        {
         "name": "age",
         "rawType": "object",
         "type": "string"
        },
        {
         "name": "count",
         "rawType": "int64",
         "type": "integer"
        }
       ],
       "ref": "ca171518-6b7a-4ccb-9290-7275ee3e28fa",
       "rows": [
        [
         "[70-80)",
         "26068"
        ],
        [
         "[60-70)",
         "22483"
        ],
        [
         "[50-60)",
         "17256"
        ],
        [
         "[80-90)",
         "17197"
        ],
        [
         "[40-50)",
         "9685"
        ],
        [
         "[30-40)",
         "3775"
        ],
        [
         "[90-100)",
         "2793"
        ],
        [
         "[20-30)",
         "1657"
        ],
        [
         "[10-20)",
         "691"
        ],
        [
         "[0-10)",
         "161"
        ]
       ],
       "shape": {
        "columns": 1,
        "rows": 10
       }
      },
      "text/plain": [
       "age\n",
       "[70-80)     26068\n",
       "[60-70)     22483\n",
       "[50-60)     17256\n",
       "[80-90)     17197\n",
       "[40-50)      9685\n",
       "[30-40)      3775\n",
       "[90-100)     2793\n",
       "[20-30)      1657\n",
       "[10-20)       691\n",
       "[0-10)        161\n",
       "Name: count, dtype: int64"
      ]
     },
     "execution_count": 16,
     "metadata": {},
     "output_type": "execute_result"
    }
   ],
   "source": [
    "col = diabetes[column_list[4]]\n",
    "\n",
    "col.head()\n",
    "col.value_counts(dropna = False)\n",
    "\n",
    "# looks ok. don't need to do anything "
   ]
  },
  {
   "cell_type": "code",
   "execution_count": 17,
   "id": "b3521467",
   "metadata": {},
   "outputs": [],
   "source": [
    "string_columns.append(column_list[4])"
   ]
  },
  {
   "cell_type": "code",
   "execution_count": 18,
   "id": "be995708",
   "metadata": {},
   "outputs": [
    {
     "data": {
      "application/vnd.microsoft.datawrangler.viewer.v0+json": {
       "columns": [
        {
         "name": "weight",
         "rawType": "object",
         "type": "unknown"
        },
        {
         "name": "count",
         "rawType": "int64",
         "type": "integer"
        }
       ],
       "ref": "4b2e1a79-b33c-43bc-9760-bbd1f869d7f4",
       "rows": [
        [
         null,
         "98569"
        ],
        [
         "[75-100)",
         "1336"
        ],
        [
         "[50-75)",
         "897"
        ],
        [
         "[100-125)",
         "625"
        ],
        [
         "[125-150)",
         "145"
        ],
        [
         "[25-50)",
         "97"
        ],
        [
         "[0-25)",
         "48"
        ],
        [
         "[150-175)",
         "35"
        ],
        [
         "[175-200)",
         "11"
        ],
        [
         ">200",
         "3"
        ]
       ],
       "shape": {
        "columns": 1,
        "rows": 10
       }
      },
      "text/plain": [
       "weight\n",
       "NaN          98569\n",
       "[75-100)      1336\n",
       "[50-75)        897\n",
       "[100-125)      625\n",
       "[125-150)      145\n",
       "[25-50)         97\n",
       "[0-25)          48\n",
       "[150-175)       35\n",
       "[175-200)       11\n",
       ">200             3\n",
       "Name: count, dtype: int64"
      ]
     },
     "execution_count": 18,
     "metadata": {},
     "output_type": "execute_result"
    }
   ],
   "source": [
    "col = diabetes[column_list[5]]\n",
    "col.head()\n",
    "col.value_counts(dropna = False)\n",
    "\n",
    "# a lot of missing values. We can remove this column. "
   ]
  },
  {
   "cell_type": "code",
   "execution_count": 19,
   "id": "680abc1e",
   "metadata": {},
   "outputs": [],
   "source": [
    "columns_to_drop= [column_list[5]]"
   ]
  },
  {
   "cell_type": "code",
   "execution_count": 20,
   "id": "ad66d0b5",
   "metadata": {},
   "outputs": [
    {
     "data": {
      "application/vnd.microsoft.datawrangler.viewer.v0+json": {
       "columns": [
        {
         "name": "admission_type_id",
         "rawType": "int64",
         "type": "integer"
        },
        {
         "name": "count",
         "rawType": "int64",
         "type": "integer"
        }
       ],
       "ref": "48a7a027-9281-43e5-9028-1ad8bc16e983",
       "rows": [
        [
         "1",
         "53990"
        ],
        [
         "3",
         "18869"
        ],
        [
         "2",
         "18480"
        ],
        [
         "6",
         "5291"
        ],
        [
         "5",
         "4785"
        ],
        [
         "8",
         "320"
        ],
        [
         "7",
         "21"
        ],
        [
         "4",
         "10"
        ]
       ],
       "shape": {
        "columns": 1,
        "rows": 8
       }
      },
      "text/plain": [
       "admission_type_id\n",
       "1    53990\n",
       "3    18869\n",
       "2    18480\n",
       "6     5291\n",
       "5     4785\n",
       "8      320\n",
       "7       21\n",
       "4       10\n",
       "Name: count, dtype: int64"
      ]
     },
     "execution_count": 20,
     "metadata": {},
     "output_type": "execute_result"
    }
   ],
   "source": [
    "col = diabetes[column_list[6]]\n",
    "col.value_counts(dropna=False)\n",
    "\n",
    "# looks ok. keep for now "
   ]
  },
  {
   "cell_type": "code",
   "execution_count": 21,
   "id": "49e51bcd",
   "metadata": {},
   "outputs": [],
   "source": [
    "int_columns.append(column_list[6])"
   ]
  },
  {
   "cell_type": "code",
   "execution_count": 22,
   "id": "dbc4e3d1",
   "metadata": {},
   "outputs": [
    {
     "data": {
      "application/vnd.microsoft.datawrangler.viewer.v0+json": {
       "columns": [
        {
         "name": "discharge_disposition_id",
         "rawType": "int64",
         "type": "integer"
        },
        {
         "name": "count",
         "rawType": "int64",
         "type": "integer"
        }
       ],
       "ref": "7ec7832d-1223-43d9-ade3-bcfe71647187",
       "rows": [
        [
         "1",
         "60234"
        ],
        [
         "2",
         "2128"
        ],
        [
         "3",
         "13954"
        ],
        [
         "4",
         "815"
        ],
        [
         "5",
         "1184"
        ],
        [
         "6",
         "12902"
        ],
        [
         "7",
         "623"
        ],
        [
         "8",
         "108"
        ],
        [
         "9",
         "21"
        ],
        [
         "10",
         "6"
        ],
        [
         "11",
         "1642"
        ],
        [
         "12",
         "3"
        ],
        [
         "13",
         "399"
        ],
        [
         "14",
         "372"
        ],
        [
         "15",
         "63"
        ],
        [
         "16",
         "11"
        ],
        [
         "17",
         "14"
        ],
        [
         "18",
         "3691"
        ],
        [
         "19",
         "8"
        ],
        [
         "20",
         "2"
        ],
        [
         "22",
         "1993"
        ],
        [
         "23",
         "412"
        ],
        [
         "24",
         "48"
        ],
        [
         "25",
         "989"
        ],
        [
         "27",
         "5"
        ],
        [
         "28",
         "139"
        ]
       ],
       "shape": {
        "columns": 1,
        "rows": 26
       }
      },
      "text/plain": [
       "discharge_disposition_id\n",
       "1     60234\n",
       "2      2128\n",
       "3     13954\n",
       "4       815\n",
       "5      1184\n",
       "6     12902\n",
       "7       623\n",
       "8       108\n",
       "9        21\n",
       "10        6\n",
       "11     1642\n",
       "12        3\n",
       "13      399\n",
       "14      372\n",
       "15       63\n",
       "16       11\n",
       "17       14\n",
       "18     3691\n",
       "19        8\n",
       "20        2\n",
       "22     1993\n",
       "23      412\n",
       "24       48\n",
       "25      989\n",
       "27        5\n",
       "28      139\n",
       "Name: count, dtype: int64"
      ]
     },
     "execution_count": 22,
     "metadata": {},
     "output_type": "execute_result"
    }
   ],
   "source": [
    "col = diabetes[column_list[7]]\n",
    "col.value_counts(dropna=False).sort_index()\n",
    "\n",
    "# looks ok. keep for now "
   ]
  },
  {
   "cell_type": "code",
   "execution_count": 23,
   "id": "393807e3",
   "metadata": {},
   "outputs": [],
   "source": [
    "int_columns.append(column_list[7])"
   ]
  },
  {
   "cell_type": "code",
   "execution_count": 24,
   "id": "90d9de20",
   "metadata": {},
   "outputs": [
    {
     "data": {
      "application/vnd.microsoft.datawrangler.viewer.v0+json": {
       "columns": [
        {
         "name": "admission_source_id",
         "rawType": "int64",
         "type": "integer"
        },
        {
         "name": "count",
         "rawType": "int64",
         "type": "integer"
        }
       ],
       "ref": "73c48b56-a740-45f4-bc29-b267fdc4f896",
       "rows": [
        [
         "1",
         "29565"
        ],
        [
         "2",
         "1104"
        ],
        [
         "3",
         "187"
        ],
        [
         "4",
         "3187"
        ],
        [
         "5",
         "855"
        ],
        [
         "6",
         "2264"
        ],
        [
         "7",
         "57494"
        ],
        [
         "8",
         "16"
        ],
        [
         "9",
         "125"
        ],
        [
         "10",
         "8"
        ],
        [
         "11",
         "2"
        ],
        [
         "13",
         "1"
        ],
        [
         "14",
         "2"
        ],
        [
         "17",
         "6781"
        ],
        [
         "20",
         "161"
        ],
        [
         "22",
         "12"
        ],
        [
         "25",
         "2"
        ]
       ],
       "shape": {
        "columns": 1,
        "rows": 17
       }
      },
      "text/plain": [
       "admission_source_id\n",
       "1     29565\n",
       "2      1104\n",
       "3       187\n",
       "4      3187\n",
       "5       855\n",
       "6      2264\n",
       "7     57494\n",
       "8        16\n",
       "9       125\n",
       "10        8\n",
       "11        2\n",
       "13        1\n",
       "14        2\n",
       "17     6781\n",
       "20      161\n",
       "22       12\n",
       "25        2\n",
       "Name: count, dtype: int64"
      ]
     },
     "execution_count": 24,
     "metadata": {},
     "output_type": "execute_result"
    }
   ],
   "source": [
    "col = diabetes[column_list[8]]\n",
    "col.value_counts(dropna=False).sort_index()\n",
    "\n",
    "# looks ok. keep for now"
   ]
  },
  {
   "cell_type": "code",
   "execution_count": 25,
   "id": "ada0ab3b",
   "metadata": {},
   "outputs": [],
   "source": [
    "int_columns.append(column_list[8])"
   ]
  },
  {
   "cell_type": "code",
   "execution_count": 26,
   "id": "e08b6257",
   "metadata": {},
   "outputs": [
    {
     "data": {
      "application/vnd.microsoft.datawrangler.viewer.v0+json": {
       "columns": [
        {
         "name": "time_in_hospital",
         "rawType": "int64",
         "type": "integer"
        },
        {
         "name": "count",
         "rawType": "int64",
         "type": "integer"
        }
       ],
       "ref": "8954c1ce-428b-44ad-8bde-ccb29cd24134",
       "rows": [
        [
         "1",
         "14208"
        ],
        [
         "2",
         "17224"
        ],
        [
         "3",
         "17756"
        ],
        [
         "4",
         "13924"
        ],
        [
         "5",
         "9966"
        ],
        [
         "6",
         "7539"
        ],
        [
         "7",
         "5859"
        ],
        [
         "8",
         "4391"
        ],
        [
         "9",
         "3002"
        ],
        [
         "10",
         "2342"
        ],
        [
         "11",
         "1855"
        ],
        [
         "12",
         "1448"
        ],
        [
         "13",
         "1210"
        ],
        [
         "14",
         "1042"
        ]
       ],
       "shape": {
        "columns": 1,
        "rows": 14
       }
      },
      "text/plain": [
       "time_in_hospital\n",
       "1     14208\n",
       "2     17224\n",
       "3     17756\n",
       "4     13924\n",
       "5      9966\n",
       "6      7539\n",
       "7      5859\n",
       "8      4391\n",
       "9      3002\n",
       "10     2342\n",
       "11     1855\n",
       "12     1448\n",
       "13     1210\n",
       "14     1042\n",
       "Name: count, dtype: int64"
      ]
     },
     "execution_count": 26,
     "metadata": {},
     "output_type": "execute_result"
    }
   ],
   "source": [
    "col = diabetes[column_list[9]]\n",
    "col.value_counts(dropna=False).sort_index()"
   ]
  },
  {
   "cell_type": "code",
   "execution_count": 27,
   "id": "2177fcfb",
   "metadata": {},
   "outputs": [],
   "source": [
    "int_columns.append(column_list[9])"
   ]
  },
  {
   "cell_type": "code",
   "execution_count": 28,
   "id": "696d78da",
   "metadata": {},
   "outputs": [
    {
     "data": {
      "application/vnd.microsoft.datawrangler.viewer.v0+json": {
       "columns": [
        {
         "name": "payer_code",
         "rawType": "object",
         "type": "unknown"
        },
        {
         "name": "count",
         "rawType": "int64",
         "type": "integer"
        }
       ],
       "ref": "9a219bf0-54ab-41be-8646-a033f11697e6",
       "rows": [
        [
         "BC",
         "4655"
        ],
        [
         "CH",
         "146"
        ],
        [
         "CM",
         "1937"
        ],
        [
         "CP",
         "2533"
        ],
        [
         "DM",
         "549"
        ],
        [
         "FR",
         "1"
        ],
        [
         "HM",
         "6274"
        ],
        [
         "MC",
         "32439"
        ],
        [
         "MD",
         "3532"
        ],
        [
         "MP",
         "79"
        ],
        [
         "OG",
         "1033"
        ],
        [
         "OT",
         "95"
        ],
        [
         "PO",
         "592"
        ],
        [
         "SI",
         "55"
        ],
        [
         "SP",
         "5007"
        ],
        [
         "UN",
         "2448"
        ],
        [
         "WC",
         "135"
        ],
        [
         null,
         "40256"
        ]
       ],
       "shape": {
        "columns": 1,
        "rows": 18
       }
      },
      "text/plain": [
       "payer_code\n",
       "BC      4655\n",
       "CH       146\n",
       "CM      1937\n",
       "CP      2533\n",
       "DM       549\n",
       "FR         1\n",
       "HM      6274\n",
       "MC     32439\n",
       "MD      3532\n",
       "MP        79\n",
       "OG      1033\n",
       "OT        95\n",
       "PO       592\n",
       "SI        55\n",
       "SP      5007\n",
       "UN      2448\n",
       "WC       135\n",
       "NaN    40256\n",
       "Name: count, dtype: int64"
      ]
     },
     "execution_count": 28,
     "metadata": {},
     "output_type": "execute_result"
    }
   ],
   "source": [
    "col = diabetes[column_list[10]]\n",
    "col.value_counts(dropna=False).sort_index()"
   ]
  },
  {
   "cell_type": "code",
   "execution_count": 29,
   "id": "77a1a304",
   "metadata": {},
   "outputs": [],
   "source": [
    "# actually not clinically significant, and lets of missing values.let's drop this\n",
    "\n",
    "columns_to_drop.append(column_list[10])"
   ]
  },
  {
   "cell_type": "code",
   "execution_count": 30,
   "id": "660419fe",
   "metadata": {},
   "outputs": [
    {
     "data": {
      "application/vnd.microsoft.datawrangler.viewer.v0+json": {
       "columns": [
        {
         "name": "medical_specialty",
         "rawType": "object",
         "type": "unknown"
        },
        {
         "name": "count",
         "rawType": "int64",
         "type": "integer"
        }
       ],
       "ref": "6181c1f1-5817-4cde-b756-91feb7983563",
       "rows": [
        [
         "AllergyandImmunology",
         "7"
        ],
        [
         "Anesthesiology",
         "12"
        ],
        [
         "Anesthesiology-Pediatric",
         "19"
        ],
        [
         "Cardiology",
         "5352"
        ],
        [
         "Cardiology-Pediatric",
         "7"
        ],
        [
         "DCPTEAM",
         "6"
        ],
        [
         "Dentistry",
         "4"
        ],
        [
         "Dermatology",
         "1"
        ],
        [
         "Emergency/Trauma",
         "7565"
        ],
        [
         "Endocrinology",
         "120"
        ],
        [
         "Endocrinology-Metabolism",
         "8"
        ],
        [
         "Family/GeneralPractice",
         "7440"
        ],
        [
         "Gastroenterology",
         "564"
        ],
        [
         "Gynecology",
         "58"
        ],
        [
         "Hematology",
         "82"
        ],
        [
         "Hematology/Oncology",
         "207"
        ],
        [
         "Hospitalist",
         "57"
        ],
        [
         "InfectiousDiseases",
         "37"
        ],
        [
         "InternalMedicine",
         "14635"
        ],
        [
         "Nephrology",
         "1613"
        ],
        [
         "Neurology",
         "203"
        ],
        [
         "Neurophysiology",
         "1"
        ],
        [
         "Obsterics&Gynecology-GynecologicOnco",
         "25"
        ],
        [
         "Obstetrics",
         "19"
        ],
        [
         "ObstetricsandGynecology",
         "671"
        ],
        [
         "Oncology",
         "348"
        ],
        [
         "Ophthalmology",
         "38"
        ],
        [
         "Orthopedics",
         "1400"
        ],
        [
         "Orthopedics-Reconstructive",
         "1233"
        ],
        [
         "Osteopath",
         "39"
        ],
        [
         "Otolaryngology",
         "125"
        ],
        [
         "OutreachServices",
         "12"
        ],
        [
         "Pathology",
         "17"
        ],
        [
         "Pediatrics",
         "254"
        ],
        [
         "Pediatrics-AllergyandImmunology",
         "3"
        ],
        [
         "Pediatrics-CriticalCare",
         "87"
        ],
        [
         "Pediatrics-EmergencyMedicine",
         "3"
        ],
        [
         "Pediatrics-Endocrinology",
         "159"
        ],
        [
         "Pediatrics-Hematology-Oncology",
         "4"
        ],
        [
         "Pediatrics-InfectiousDiseases",
         "1"
        ],
        [
         "Pediatrics-Neurology",
         "10"
        ],
        [
         "Pediatrics-Pulmonology",
         "25"
        ],
        [
         "Perinatology",
         "1"
        ],
        [
         "PhysicalMedicineandRehabilitation",
         "391"
        ],
        [
         "PhysicianNotFound",
         "11"
        ],
        [
         "Podiatry",
         "100"
        ],
        [
         "Proctology",
         "1"
        ],
        [
         "Psychiatry",
         "854"
        ],
        [
         "Psychiatry-Addictive",
         "1"
        ],
        [
         "Psychiatry-Child/Adolescent",
         "7"
        ]
       ],
       "shape": {
        "columns": 1,
        "rows": 73
       }
      },
      "text/plain": [
       "medical_specialty\n",
       "AllergyandImmunology            7\n",
       "Anesthesiology                 12\n",
       "Anesthesiology-Pediatric       19\n",
       "Cardiology                   5352\n",
       "Cardiology-Pediatric            7\n",
       "                            ...  \n",
       "Surgery-Thoracic              109\n",
       "Surgery-Vascular              533\n",
       "SurgicalSpecialty              33\n",
       "Urology                       685\n",
       "NaN                         49949\n",
       "Name: count, Length: 73, dtype: int64"
      ]
     },
     "execution_count": 30,
     "metadata": {},
     "output_type": "execute_result"
    }
   ],
   "source": [
    "col = diabetes[column_list[11]]\n",
    "col.value_counts(dropna=False).sort_index()"
   ]
  },
  {
   "cell_type": "code",
   "execution_count": 31,
   "id": "79cbef9b",
   "metadata": {},
   "outputs": [],
   "source": [
    "# lots of missing values. let's drop this \n",
    "columns_to_drop.append(column_list[11])"
   ]
  },
  {
   "cell_type": "code",
   "execution_count": 32,
   "id": "ae00ef4f",
   "metadata": {},
   "outputs": [
    {
     "data": {
      "application/vnd.microsoft.datawrangler.viewer.v0+json": {
       "columns": [
        {
         "name": "num_lab_procedures",
         "rawType": "int64",
         "type": "integer"
        },
        {
         "name": "count",
         "rawType": "int64",
         "type": "integer"
        }
       ],
       "ref": "e46d0068-6abd-4f07-9897-42ea84334664",
       "rows": [
        [
         "1",
         "3208"
        ],
        [
         "2",
         "1101"
        ],
        [
         "3",
         "668"
        ],
        [
         "4",
         "378"
        ],
        [
         "5",
         "286"
        ],
        [
         "6",
         "282"
        ],
        [
         "7",
         "323"
        ],
        [
         "8",
         "366"
        ],
        [
         "9",
         "933"
        ],
        [
         "10",
         "838"
        ],
        [
         "11",
         "689"
        ],
        [
         "12",
         "506"
        ],
        [
         "13",
         "404"
        ],
        [
         "14",
         "336"
        ],
        [
         "15",
         "461"
        ],
        [
         "16",
         "544"
        ],
        [
         "17",
         "743"
        ],
        [
         "18",
         "730"
        ],
        [
         "19",
         "977"
        ],
        [
         "20",
         "763"
        ],
        [
         "21",
         "676"
        ],
        [
         "22",
         "694"
        ],
        [
         "23",
         "836"
        ],
        [
         "24",
         "744"
        ],
        [
         "25",
         "1048"
        ],
        [
         "26",
         "1094"
        ],
        [
         "27",
         "831"
        ],
        [
         "28",
         "1048"
        ],
        [
         "29",
         "1340"
        ],
        [
         "30",
         "1354"
        ],
        [
         "31",
         "1311"
        ],
        [
         "32",
         "1336"
        ],
        [
         "33",
         "1297"
        ],
        [
         "34",
         "1677"
        ],
        [
         "35",
         "1907"
        ],
        [
         "36",
         "1962"
        ],
        [
         "37",
         "2079"
        ],
        [
         "38",
         "2213"
        ],
        [
         "39",
         "2101"
        ],
        [
         "40",
         "2201"
        ],
        [
         "41",
         "2117"
        ],
        [
         "42",
         "2113"
        ],
        [
         "43",
         "2804"
        ],
        [
         "44",
         "2496"
        ],
        [
         "45",
         "2376"
        ],
        [
         "46",
         "2189"
        ],
        [
         "47",
         "2106"
        ],
        [
         "48",
         "2058"
        ],
        [
         "49",
         "2066"
        ],
        [
         "50",
         "1924"
        ]
       ],
       "shape": {
        "columns": 1,
        "rows": 118
       }
      },
      "text/plain": [
       "num_lab_procedures\n",
       "1      3208\n",
       "2      1101\n",
       "3       668\n",
       "4       378\n",
       "5       286\n",
       "       ... \n",
       "120       1\n",
       "121       1\n",
       "126       1\n",
       "129       1\n",
       "132       1\n",
       "Name: count, Length: 118, dtype: int64"
      ]
     },
     "execution_count": 32,
     "metadata": {},
     "output_type": "execute_result"
    }
   ],
   "source": [
    "col = diabetes[column_list[12]]\n",
    "col.value_counts(dropna=False).sort_index()"
   ]
  },
  {
   "cell_type": "code",
   "execution_count": 33,
   "id": "d06fd667",
   "metadata": {},
   "outputs": [],
   "source": [
    "int_columns.append(column_list[12])"
   ]
  },
  {
   "cell_type": "code",
   "execution_count": 34,
   "id": "7eebf857",
   "metadata": {},
   "outputs": [
    {
     "data": {
      "application/vnd.microsoft.datawrangler.viewer.v0+json": {
       "columns": [
        {
         "name": "num_procedures",
         "rawType": "int64",
         "type": "integer"
        },
        {
         "name": "count",
         "rawType": "int64",
         "type": "integer"
        }
       ],
       "ref": "df590027-caf7-4a47-a2f8-6ce7e4badd10",
       "rows": [
        [
         "0",
         "46652"
        ],
        [
         "1",
         "20742"
        ],
        [
         "2",
         "12717"
        ],
        [
         "3",
         "9443"
        ],
        [
         "4",
         "4180"
        ],
        [
         "5",
         "3078"
        ],
        [
         "6",
         "4954"
        ]
       ],
       "shape": {
        "columns": 1,
        "rows": 7
       }
      },
      "text/plain": [
       "num_procedures\n",
       "0    46652\n",
       "1    20742\n",
       "2    12717\n",
       "3     9443\n",
       "4     4180\n",
       "5     3078\n",
       "6     4954\n",
       "Name: count, dtype: int64"
      ]
     },
     "execution_count": 34,
     "metadata": {},
     "output_type": "execute_result"
    }
   ],
   "source": [
    "col = diabetes[column_list[13]]\n",
    "col.value_counts(dropna=False).sort_index()"
   ]
  },
  {
   "cell_type": "code",
   "execution_count": 35,
   "id": "b4c95bfa",
   "metadata": {},
   "outputs": [],
   "source": [
    "int_columns.append(column_list[13])"
   ]
  },
  {
   "cell_type": "code",
   "execution_count": 36,
   "id": "ec0dc458",
   "metadata": {},
   "outputs": [
    {
     "data": {
      "application/vnd.microsoft.datawrangler.viewer.v0+json": {
       "columns": [
        {
         "name": "num_medications",
         "rawType": "int64",
         "type": "integer"
        },
        {
         "name": "count",
         "rawType": "int64",
         "type": "integer"
        }
       ],
       "ref": "b29de988-a84e-4518-920d-bacf4c26af82",
       "rows": [
        [
         "1",
         "262"
        ],
        [
         "2",
         "470"
        ],
        [
         "3",
         "900"
        ],
        [
         "4",
         "1417"
        ],
        [
         "5",
         "2017"
        ],
        [
         "6",
         "2699"
        ],
        [
         "7",
         "3484"
        ],
        [
         "8",
         "4353"
        ],
        [
         "9",
         "4913"
        ],
        [
         "10",
         "5346"
        ],
        [
         "11",
         "5795"
        ],
        [
         "12",
         "6004"
        ],
        [
         "13",
         "6086"
        ],
        [
         "14",
         "5707"
        ],
        [
         "15",
         "5792"
        ],
        [
         "16",
         "5430"
        ],
        [
         "17",
         "4919"
        ],
        [
         "18",
         "4523"
        ],
        [
         "19",
         "4078"
        ],
        [
         "20",
         "3691"
        ],
        [
         "21",
         "3230"
        ],
        [
         "22",
         "2868"
        ],
        [
         "23",
         "2426"
        ],
        [
         "24",
         "2109"
        ],
        [
         "25",
         "1888"
        ],
        [
         "26",
         "1608"
        ],
        [
         "27",
         "1432"
        ],
        [
         "28",
         "1233"
        ],
        [
         "29",
         "1000"
        ],
        [
         "30",
         "849"
        ],
        [
         "31",
         "712"
        ],
        [
         "32",
         "623"
        ],
        [
         "33",
         "504"
        ],
        [
         "34",
         "453"
        ],
        [
         "35",
         "388"
        ],
        [
         "36",
         "287"
        ],
        [
         "37",
         "293"
        ],
        [
         "38",
         "228"
        ],
        [
         "39",
         "209"
        ],
        [
         "40",
         "179"
        ],
        [
         "41",
         "146"
        ],
        [
         "42",
         "128"
        ],
        [
         "43",
         "127"
        ],
        [
         "44",
         "100"
        ],
        [
         "45",
         "88"
        ],
        [
         "46",
         "92"
        ],
        [
         "47",
         "74"
        ],
        [
         "48",
         "60"
        ],
        [
         "49",
         "61"
        ],
        [
         "50",
         "55"
        ]
       ],
       "shape": {
        "columns": 1,
        "rows": 75
       }
      },
      "text/plain": [
       "num_medications\n",
       "1      262\n",
       "2      470\n",
       "3      900\n",
       "4     1417\n",
       "5     2017\n",
       "      ... \n",
       "72       3\n",
       "74       1\n",
       "75       2\n",
       "79       1\n",
       "81       1\n",
       "Name: count, Length: 75, dtype: int64"
      ]
     },
     "execution_count": 36,
     "metadata": {},
     "output_type": "execute_result"
    }
   ],
   "source": [
    "col = diabetes[column_list[14]]\n",
    "col.value_counts(dropna=False).sort_index()"
   ]
  },
  {
   "cell_type": "code",
   "execution_count": 37,
   "id": "a2ca1b97",
   "metadata": {},
   "outputs": [],
   "source": [
    "int_columns.append(column_list[14])"
   ]
  },
  {
   "cell_type": "code",
   "execution_count": 38,
   "id": "6b44eb27",
   "metadata": {},
   "outputs": [
    {
     "data": {
      "application/vnd.microsoft.datawrangler.viewer.v0+json": {
       "columns": [
        {
         "name": "number_outpatient",
         "rawType": "int64",
         "type": "integer"
        },
        {
         "name": "count",
         "rawType": "int64",
         "type": "integer"
        }
       ],
       "ref": "a8596dad-e9af-4734-bc8b-898c02e193d2",
       "rows": [
        [
         "0",
         "85027"
        ],
        [
         "1",
         "8547"
        ],
        [
         "2",
         "3594"
        ],
        [
         "3",
         "2042"
        ],
        [
         "4",
         "1099"
        ],
        [
         "5",
         "533"
        ],
        [
         "6",
         "303"
        ],
        [
         "7",
         "155"
        ],
        [
         "8",
         "98"
        ],
        [
         "9",
         "83"
        ],
        [
         "10",
         "57"
        ],
        [
         "11",
         "42"
        ],
        [
         "12",
         "30"
        ],
        [
         "13",
         "31"
        ],
        [
         "14",
         "28"
        ],
        [
         "15",
         "20"
        ],
        [
         "16",
         "15"
        ],
        [
         "17",
         "8"
        ],
        [
         "18",
         "5"
        ],
        [
         "19",
         "3"
        ],
        [
         "20",
         "7"
        ],
        [
         "21",
         "7"
        ],
        [
         "22",
         "5"
        ],
        [
         "23",
         "2"
        ],
        [
         "24",
         "3"
        ],
        [
         "25",
         "2"
        ],
        [
         "26",
         "2"
        ],
        [
         "27",
         "3"
        ],
        [
         "28",
         "1"
        ],
        [
         "29",
         "2"
        ],
        [
         "33",
         "2"
        ],
        [
         "34",
         "1"
        ],
        [
         "35",
         "2"
        ],
        [
         "36",
         "2"
        ],
        [
         "37",
         "1"
        ],
        [
         "38",
         "1"
        ],
        [
         "39",
         "1"
        ],
        [
         "40",
         "1"
        ],
        [
         "42",
         "1"
        ]
       ],
       "shape": {
        "columns": 1,
        "rows": 39
       }
      },
      "text/plain": [
       "number_outpatient\n",
       "0     85027\n",
       "1      8547\n",
       "2      3594\n",
       "3      2042\n",
       "4      1099\n",
       "5       533\n",
       "6       303\n",
       "7       155\n",
       "8        98\n",
       "9        83\n",
       "10       57\n",
       "11       42\n",
       "12       30\n",
       "13       31\n",
       "14       28\n",
       "15       20\n",
       "16       15\n",
       "17        8\n",
       "18        5\n",
       "19        3\n",
       "20        7\n",
       "21        7\n",
       "22        5\n",
       "23        2\n",
       "24        3\n",
       "25        2\n",
       "26        2\n",
       "27        3\n",
       "28        1\n",
       "29        2\n",
       "33        2\n",
       "34        1\n",
       "35        2\n",
       "36        2\n",
       "37        1\n",
       "38        1\n",
       "39        1\n",
       "40        1\n",
       "42        1\n",
       "Name: count, dtype: int64"
      ]
     },
     "execution_count": 38,
     "metadata": {},
     "output_type": "execute_result"
    }
   ],
   "source": [
    "col = diabetes[column_list[15]]\n",
    "col.value_counts(dropna=False).sort_index()"
   ]
  },
  {
   "cell_type": "code",
   "execution_count": 39,
   "id": "83f58baa",
   "metadata": {},
   "outputs": [],
   "source": [
    "int_columns.append(column_list[15])"
   ]
  },
  {
   "cell_type": "code",
   "execution_count": 40,
   "id": "15554b00",
   "metadata": {},
   "outputs": [
    {
     "data": {
      "application/vnd.microsoft.datawrangler.viewer.v0+json": {
       "columns": [
        {
         "name": "number_emergency",
         "rawType": "int64",
         "type": "integer"
        },
        {
         "name": "count",
         "rawType": "int64",
         "type": "integer"
        }
       ],
       "ref": "ce5755b5-82fe-4cc6-89fe-bc36c225f7ea",
       "rows": [
        [
         "0",
         "90383"
        ],
        [
         "1",
         "7677"
        ],
        [
         "2",
         "2042"
        ],
        [
         "3",
         "725"
        ],
        [
         "4",
         "374"
        ],
        [
         "5",
         "192"
        ],
        [
         "6",
         "94"
        ],
        [
         "7",
         "73"
        ],
        [
         "8",
         "50"
        ],
        [
         "9",
         "33"
        ],
        [
         "10",
         "34"
        ],
        [
         "11",
         "23"
        ],
        [
         "12",
         "10"
        ],
        [
         "13",
         "12"
        ],
        [
         "14",
         "3"
        ],
        [
         "15",
         "3"
        ],
        [
         "16",
         "5"
        ],
        [
         "18",
         "5"
        ],
        [
         "19",
         "4"
        ],
        [
         "20",
         "4"
        ],
        [
         "21",
         "2"
        ],
        [
         "22",
         "6"
        ],
        [
         "24",
         "1"
        ],
        [
         "25",
         "2"
        ],
        [
         "28",
         "1"
        ],
        [
         "29",
         "1"
        ],
        [
         "37",
         "1"
        ],
        [
         "42",
         "1"
        ],
        [
         "46",
         "1"
        ],
        [
         "54",
         "1"
        ],
        [
         "63",
         "1"
        ],
        [
         "64",
         "1"
        ],
        [
         "76",
         "1"
        ]
       ],
       "shape": {
        "columns": 1,
        "rows": 33
       }
      },
      "text/plain": [
       "number_emergency\n",
       "0     90383\n",
       "1      7677\n",
       "2      2042\n",
       "3       725\n",
       "4       374\n",
       "5       192\n",
       "6        94\n",
       "7        73\n",
       "8        50\n",
       "9        33\n",
       "10       34\n",
       "11       23\n",
       "12       10\n",
       "13       12\n",
       "14        3\n",
       "15        3\n",
       "16        5\n",
       "18        5\n",
       "19        4\n",
       "20        4\n",
       "21        2\n",
       "22        6\n",
       "24        1\n",
       "25        2\n",
       "28        1\n",
       "29        1\n",
       "37        1\n",
       "42        1\n",
       "46        1\n",
       "54        1\n",
       "63        1\n",
       "64        1\n",
       "76        1\n",
       "Name: count, dtype: int64"
      ]
     },
     "execution_count": 40,
     "metadata": {},
     "output_type": "execute_result"
    }
   ],
   "source": [
    "col = diabetes[column_list[16]]\n",
    "col.value_counts(dropna=False).sort_index()"
   ]
  },
  {
   "cell_type": "code",
   "execution_count": 41,
   "id": "3a1f054e",
   "metadata": {},
   "outputs": [],
   "source": [
    "int_columns.append(column_list[16])"
   ]
  },
  {
   "cell_type": "code",
   "execution_count": 42,
   "id": "b200cc67",
   "metadata": {},
   "outputs": [
    {
     "data": {
      "application/vnd.microsoft.datawrangler.viewer.v0+json": {
       "columns": [
        {
         "name": "number_inpatient",
         "rawType": "int64",
         "type": "integer"
        },
        {
         "name": "count",
         "rawType": "int64",
         "type": "integer"
        }
       ],
       "ref": "2b1fa313-6921-4fec-b889-87fe74d30933",
       "rows": [
        [
         "0",
         "67630"
        ],
        [
         "1",
         "19521"
        ],
        [
         "2",
         "7566"
        ],
        [
         "3",
         "3411"
        ],
        [
         "4",
         "1622"
        ],
        [
         "5",
         "812"
        ],
        [
         "6",
         "480"
        ],
        [
         "7",
         "268"
        ],
        [
         "8",
         "151"
        ],
        [
         "9",
         "111"
        ],
        [
         "10",
         "61"
        ],
        [
         "11",
         "49"
        ],
        [
         "12",
         "34"
        ],
        [
         "13",
         "20"
        ],
        [
         "14",
         "10"
        ],
        [
         "15",
         "9"
        ],
        [
         "16",
         "6"
        ],
        [
         "17",
         "1"
        ],
        [
         "18",
         "1"
        ],
        [
         "19",
         "2"
        ],
        [
         "21",
         "1"
        ]
       ],
       "shape": {
        "columns": 1,
        "rows": 21
       }
      },
      "text/plain": [
       "number_inpatient\n",
       "0     67630\n",
       "1     19521\n",
       "2      7566\n",
       "3      3411\n",
       "4      1622\n",
       "5       812\n",
       "6       480\n",
       "7       268\n",
       "8       151\n",
       "9       111\n",
       "10       61\n",
       "11       49\n",
       "12       34\n",
       "13       20\n",
       "14       10\n",
       "15        9\n",
       "16        6\n",
       "17        1\n",
       "18        1\n",
       "19        2\n",
       "21        1\n",
       "Name: count, dtype: int64"
      ]
     },
     "execution_count": 42,
     "metadata": {},
     "output_type": "execute_result"
    }
   ],
   "source": [
    "col = diabetes[column_list[17]]\n",
    "col.value_counts(dropna=False).sort_index()"
   ]
  },
  {
   "cell_type": "code",
   "execution_count": 43,
   "id": "b84500ae",
   "metadata": {},
   "outputs": [],
   "source": [
    "int_columns.append(column_list[17])"
   ]
  },
  {
   "cell_type": "code",
   "execution_count": 44,
   "id": "ad7b2432",
   "metadata": {},
   "outputs": [
    {
     "data": {
      "application/vnd.microsoft.datawrangler.viewer.v0+json": {
       "columns": [
        {
         "name": "diag_1",
         "rawType": "object",
         "type": "unknown"
        },
        {
         "name": "count",
         "rawType": "int64",
         "type": "integer"
        }
       ],
       "ref": "6d1adab4-8a9e-4f57-885e-aeea5c7a0156",
       "rows": [
        [
         "10",
         "1"
        ],
        [
         "11",
         "10"
        ],
        [
         "110",
         "2"
        ],
        [
         "112",
         "73"
        ],
        [
         "114",
         "1"
        ],
        [
         "115",
         "2"
        ],
        [
         "117",
         "9"
        ],
        [
         "131",
         "2"
        ],
        [
         "133",
         "1"
        ],
        [
         "135",
         "27"
        ],
        [
         "136",
         "5"
        ],
        [
         "141",
         "6"
        ],
        [
         "142",
         "4"
        ],
        [
         "143",
         "1"
        ],
        [
         "145",
         "1"
        ],
        [
         "146",
         "4"
        ],
        [
         "147",
         "2"
        ],
        [
         "148",
         "1"
        ],
        [
         "149",
         "2"
        ],
        [
         "150",
         "27"
        ],
        [
         "151",
         "62"
        ],
        [
         "152",
         "15"
        ],
        [
         "153",
         "311"
        ],
        [
         "154",
         "94"
        ],
        [
         "155",
         "54"
        ],
        [
         "156",
         "18"
        ],
        [
         "157",
         "114"
        ],
        [
         "158",
         "12"
        ],
        [
         "160",
         "1"
        ],
        [
         "161",
         "12"
        ],
        [
         "162",
         "425"
        ],
        [
         "163",
         "9"
        ],
        [
         "164",
         "3"
        ],
        [
         "170",
         "2"
        ],
        [
         "171",
         "12"
        ],
        [
         "172",
         "4"
        ],
        [
         "173",
         "3"
        ],
        [
         "174",
         "147"
        ],
        [
         "175",
         "5"
        ],
        [
         "179",
         "4"
        ],
        [
         "180",
         "6"
        ],
        [
         "182",
         "108"
        ],
        [
         "183",
         "31"
        ],
        [
         "184",
         "10"
        ],
        [
         "185",
         "173"
        ],
        [
         "187",
         "2"
        ],
        [
         "188",
         "112"
        ],
        [
         "189",
         "126"
        ],
        [
         "191",
         "45"
        ],
        [
         "192",
         "4"
        ]
       ],
       "shape": {
        "columns": 1,
        "rows": 717
       }
      },
      "text/plain": [
       "diag_1\n",
       "10      1\n",
       "11     10\n",
       "110     2\n",
       "112    73\n",
       "114     1\n",
       "       ..\n",
       "V66     2\n",
       "V67     1\n",
       "V70     1\n",
       "V71     9\n",
       "NaN    21\n",
       "Name: count, Length: 717, dtype: int64"
      ]
     },
     "execution_count": 44,
     "metadata": {},
     "output_type": "execute_result"
    }
   ],
   "source": [
    "col = diabetes[column_list[18]]\n",
    "col.value_counts(dropna=False).sort_index()"
   ]
  },
  {
   "cell_type": "code",
   "execution_count": 45,
   "id": "3914f1f5",
   "metadata": {},
   "outputs": [],
   "source": [
    "# ok only a few nan. let's drop the nan \n",
    "string_columns.append(column_list[18])\n",
    "retain_rows = retain_rows & (~col.isna()) "
   ]
  },
  {
   "cell_type": "code",
   "execution_count": 46,
   "id": "3a95b798",
   "metadata": {},
   "outputs": [
    {
     "data": {
      "application/vnd.microsoft.datawrangler.viewer.v0+json": {
       "columns": [
        {
         "name": "diag_2",
         "rawType": "object",
         "type": "unknown"
        },
        {
         "name": "count",
         "rawType": "int64",
         "type": "integer"
        }
       ],
       "ref": "b174c315-4c33-43b6-be72-5937ac4d432e",
       "rows": [
        [
         "11",
         "3"
        ],
        [
         "110",
         "8"
        ],
        [
         "111",
         "1"
        ],
        [
         "112",
         "201"
        ],
        [
         "114",
         "1"
        ],
        [
         "115",
         "1"
        ],
        [
         "117",
         "10"
        ],
        [
         "123",
         "1"
        ],
        [
         "130",
         "1"
        ],
        [
         "131",
         "3"
        ],
        [
         "135",
         "115"
        ],
        [
         "136",
         "6"
        ],
        [
         "137",
         "1"
        ],
        [
         "138",
         "22"
        ],
        [
         "140",
         "1"
        ],
        [
         "141",
         "2"
        ],
        [
         "145",
         "1"
        ],
        [
         "150",
         "35"
        ],
        [
         "151",
         "24"
        ],
        [
         "152",
         "13"
        ],
        [
         "153",
         "107"
        ],
        [
         "154",
         "45"
        ],
        [
         "155",
         "33"
        ],
        [
         "156",
         "16"
        ],
        [
         "157",
         "85"
        ],
        [
         "162",
         "401"
        ],
        [
         "163",
         "1"
        ],
        [
         "164",
         "1"
        ],
        [
         "171",
         "2"
        ],
        [
         "172",
         "8"
        ],
        [
         "173",
         "1"
        ],
        [
         "174",
         "27"
        ],
        [
         "179",
         "2"
        ],
        [
         "180",
         "1"
        ],
        [
         "182",
         "1"
        ],
        [
         "183",
         "14"
        ],
        [
         "185",
         "27"
        ],
        [
         "186",
         "1"
        ],
        [
         "188",
         "10"
        ],
        [
         "189",
         "48"
        ],
        [
         "191",
         "14"
        ],
        [
         "192",
         "1"
        ],
        [
         "193",
         "4"
        ],
        [
         "195",
         "1"
        ],
        [
         "196",
         "213"
        ],
        [
         "197",
         "410"
        ],
        [
         "198",
         "320"
        ],
        [
         "199",
         "13"
        ],
        [
         "200",
         "19"
        ],
        [
         "201",
         "20"
        ]
       ],
       "shape": {
        "columns": 1,
        "rows": 749
       }
      },
      "text/plain": [
       "diag_2\n",
       "11       3\n",
       "110      8\n",
       "111      1\n",
       "112    201\n",
       "114      1\n",
       "      ... \n",
       "V70      7\n",
       "V72     13\n",
       "V85    169\n",
       "V86      2\n",
       "NaN    358\n",
       "Name: count, Length: 749, dtype: int64"
      ]
     },
     "execution_count": 46,
     "metadata": {},
     "output_type": "execute_result"
    }
   ],
   "source": [
    "col = diabetes[column_list[19]]\n",
    "col.value_counts(dropna=False).sort_index()"
   ]
  },
  {
   "cell_type": "code",
   "execution_count": 47,
   "id": "bc969ae9",
   "metadata": {},
   "outputs": [],
   "source": [
    "# ok only a few nan. let's drop the nan \n",
    "string_columns.append(column_list[19])\n",
    "retain_rows = retain_rows & (~col.isna()) "
   ]
  },
  {
   "cell_type": "code",
   "execution_count": 48,
   "id": "3ae563ed",
   "metadata": {},
   "outputs": [
    {
     "data": {
      "application/vnd.microsoft.datawrangler.viewer.v0+json": {
       "columns": [
        {
         "name": "diag_3",
         "rawType": "object",
         "type": "unknown"
        },
        {
         "name": "count",
         "rawType": "int64",
         "type": "integer"
        }
       ],
       "ref": "4e10812f-ac62-4664-8465-6896820ff128",
       "rows": [
        [
         "11",
         "2"
        ],
        [
         "110",
         "20"
        ],
        [
         "111",
         "1"
        ],
        [
         "112",
         "206"
        ],
        [
         "115",
         "1"
        ],
        [
         "117",
         "7"
        ],
        [
         "122",
         "1"
        ],
        [
         "123",
         "1"
        ],
        [
         "131",
         "6"
        ],
        [
         "132",
         "3"
        ],
        [
         "135",
         "64"
        ],
        [
         "136",
         "2"
        ],
        [
         "138",
         "21"
        ],
        [
         "139",
         "2"
        ],
        [
         "14",
         "1"
        ],
        [
         "141",
         "4"
        ],
        [
         "146",
         "1"
        ],
        [
         "148",
         "1"
        ],
        [
         "150",
         "13"
        ],
        [
         "151",
         "10"
        ],
        [
         "152",
         "3"
        ],
        [
         "153",
         "55"
        ],
        [
         "154",
         "13"
        ],
        [
         "155",
         "12"
        ],
        [
         "156",
         "4"
        ],
        [
         "157",
         "38"
        ],
        [
         "158",
         "1"
        ],
        [
         "161",
         "3"
        ],
        [
         "162",
         "181"
        ],
        [
         "163",
         "5"
        ],
        [
         "164",
         "1"
        ],
        [
         "17",
         "1"
        ],
        [
         "170",
         "4"
        ],
        [
         "171",
         "4"
        ],
        [
         "172",
         "5"
        ],
        [
         "173",
         "2"
        ],
        [
         "174",
         "43"
        ],
        [
         "175",
         "1"
        ],
        [
         "179",
         "7"
        ],
        [
         "180",
         "4"
        ],
        [
         "182",
         "5"
        ],
        [
         "183",
         "14"
        ],
        [
         "185",
         "51"
        ],
        [
         "186",
         "1"
        ],
        [
         "188",
         "15"
        ],
        [
         "189",
         "27"
        ],
        [
         "191",
         "5"
        ],
        [
         "192",
         "2"
        ],
        [
         "193",
         "1"
        ],
        [
         "195",
         "1"
        ]
       ],
       "shape": {
        "columns": 1,
        "rows": 790
       }
      },
      "text/plain": [
       "diag_3\n",
       "11        2\n",
       "110      20\n",
       "111       1\n",
       "112     206\n",
       "115       1\n",
       "       ... \n",
       "V70       2\n",
       "V72       8\n",
       "V85      96\n",
       "V86       3\n",
       "NaN    1423\n",
       "Name: count, Length: 790, dtype: int64"
      ]
     },
     "execution_count": 48,
     "metadata": {},
     "output_type": "execute_result"
    }
   ],
   "source": [
    "col = diabetes[column_list[20]]\n",
    "col.value_counts(dropna=False).sort_index()"
   ]
  },
  {
   "cell_type": "code",
   "execution_count": 49,
   "id": "e7e3dc46",
   "metadata": {},
   "outputs": [],
   "source": [
    "# ok only a few nan. let's drop the nan \n",
    "string_columns.append(column_list[20])\n",
    "retain_rows = retain_rows & (~col.isna()) "
   ]
  },
  {
   "cell_type": "code",
   "execution_count": 50,
   "id": "71de75b8",
   "metadata": {},
   "outputs": [
    {
     "data": {
      "application/vnd.microsoft.datawrangler.viewer.v0+json": {
       "columns": [
        {
         "name": "number_diagnoses",
         "rawType": "int64",
         "type": "integer"
        },
        {
         "name": "count",
         "rawType": "int64",
         "type": "integer"
        }
       ],
       "ref": "8cb9aac6-e205-4a76-bc6d-5aaca5ef8fb6",
       "rows": [
        [
         "1",
         "219"
        ],
        [
         "2",
         "1023"
        ],
        [
         "3",
         "2835"
        ],
        [
         "4",
         "5537"
        ],
        [
         "5",
         "11393"
        ],
        [
         "6",
         "10161"
        ],
        [
         "7",
         "10393"
        ],
        [
         "8",
         "10616"
        ],
        [
         "9",
         "49474"
        ],
        [
         "10",
         "17"
        ],
        [
         "11",
         "11"
        ],
        [
         "12",
         "9"
        ],
        [
         "13",
         "16"
        ],
        [
         "14",
         "7"
        ],
        [
         "15",
         "10"
        ],
        [
         "16",
         "45"
        ]
       ],
       "shape": {
        "columns": 1,
        "rows": 16
       }
      },
      "text/plain": [
       "number_diagnoses\n",
       "1       219\n",
       "2      1023\n",
       "3      2835\n",
       "4      5537\n",
       "5     11393\n",
       "6     10161\n",
       "7     10393\n",
       "8     10616\n",
       "9     49474\n",
       "10       17\n",
       "11       11\n",
       "12        9\n",
       "13       16\n",
       "14        7\n",
       "15       10\n",
       "16       45\n",
       "Name: count, dtype: int64"
      ]
     },
     "execution_count": 50,
     "metadata": {},
     "output_type": "execute_result"
    }
   ],
   "source": [
    "col = diabetes[column_list[21]]\n",
    "col.value_counts(dropna=False).sort_index()"
   ]
  },
  {
   "cell_type": "code",
   "execution_count": 51,
   "id": "28bfc1bc",
   "metadata": {},
   "outputs": [],
   "source": [
    "int_columns.append(column_list[21])"
   ]
  },
  {
   "cell_type": "code",
   "execution_count": 52,
   "id": "59170bf9",
   "metadata": {},
   "outputs": [
    {
     "data": {
      "application/vnd.microsoft.datawrangler.viewer.v0+json": {
       "columns": [
        {
         "name": "max_glu_serum",
         "rawType": "object",
         "type": "unknown"
        },
        {
         "name": "count",
         "rawType": "int64",
         "type": "integer"
        }
       ],
       "ref": "faef273d-eb1e-4672-b48c-7cc4c6906c33",
       "rows": [
        [
         ">200",
         "1485"
        ],
        [
         ">300",
         "1264"
        ],
        [
         "Norm",
         "2597"
        ],
        [
         null,
         "96420"
        ]
       ],
       "shape": {
        "columns": 1,
        "rows": 4
       }
      },
      "text/plain": [
       "max_glu_serum\n",
       ">200     1485\n",
       ">300     1264\n",
       "Norm     2597\n",
       "NaN     96420\n",
       "Name: count, dtype: int64"
      ]
     },
     "execution_count": 52,
     "metadata": {},
     "output_type": "execute_result"
    }
   ],
   "source": [
    "col = diabetes[column_list[22]]\n",
    "col.value_counts(dropna=False).sort_index()"
   ]
  },
  {
   "cell_type": "code",
   "execution_count": 53,
   "id": "462da7ab",
   "metadata": {},
   "outputs": [],
   "source": [
    "# lots of missing data. drop this column \n",
    "columns_to_drop.append(column_list[22])"
   ]
  },
  {
   "cell_type": "code",
   "execution_count": 54,
   "id": "3fc507f1",
   "metadata": {},
   "outputs": [
    {
     "data": {
      "application/vnd.microsoft.datawrangler.viewer.v0+json": {
       "columns": [
        {
         "name": "A1Cresult",
         "rawType": "object",
         "type": "unknown"
        },
        {
         "name": "count",
         "rawType": "int64",
         "type": "integer"
        }
       ],
       "ref": "914785a9-b963-4de2-916b-a238dc2c0c66",
       "rows": [
        [
         ">7",
         "3812"
        ],
        [
         ">8",
         "8216"
        ],
        [
         "Norm",
         "4990"
        ],
        [
         null,
         "84748"
        ]
       ],
       "shape": {
        "columns": 1,
        "rows": 4
       }
      },
      "text/plain": [
       "A1Cresult\n",
       ">7       3812\n",
       ">8       8216\n",
       "Norm     4990\n",
       "NaN     84748\n",
       "Name: count, dtype: int64"
      ]
     },
     "execution_count": 54,
     "metadata": {},
     "output_type": "execute_result"
    }
   ],
   "source": [
    "col = diabetes[column_list[23]]\n",
    "col.value_counts(dropna=False).sort_index()"
   ]
  },
  {
   "cell_type": "code",
   "execution_count": 55,
   "id": "441cad7c",
   "metadata": {},
   "outputs": [],
   "source": [
    "# lots of missing data. drop this column \n",
    "columns_to_drop.append(column_list[23])\n"
   ]
  },
  {
   "cell_type": "code",
   "execution_count": 56,
   "id": "bf989922",
   "metadata": {},
   "outputs": [
    {
     "data": {
      "application/vnd.microsoft.datawrangler.viewer.v0+json": {
       "columns": [
        {
         "name": "metformin",
         "rawType": "object",
         "type": "string"
        },
        {
         "name": "count",
         "rawType": "int64",
         "type": "integer"
        }
       ],
       "ref": "a4cadfa4-7c6a-4d74-bf27-47e3eaf02bab",
       "rows": [
        [
         "Down",
         "575"
        ],
        [
         "No",
         "81778"
        ],
        [
         "Steady",
         "18346"
        ],
        [
         "Up",
         "1067"
        ]
       ],
       "shape": {
        "columns": 1,
        "rows": 4
       }
      },
      "text/plain": [
       "metformin\n",
       "Down        575\n",
       "No        81778\n",
       "Steady    18346\n",
       "Up         1067\n",
       "Name: count, dtype: int64"
      ]
     },
     "execution_count": 56,
     "metadata": {},
     "output_type": "execute_result"
    }
   ],
   "source": [
    "col = diabetes[column_list[24]]\n",
    "col.value_counts(dropna=False).sort_index()"
   ]
  },
  {
   "cell_type": "code",
   "execution_count": 57,
   "id": "ed02228d",
   "metadata": {},
   "outputs": [],
   "source": [
    "string_columns.append(column_list[24])"
   ]
  },
  {
   "cell_type": "code",
   "execution_count": 58,
   "id": "681ee6e3",
   "metadata": {},
   "outputs": [
    {
     "data": {
      "application/vnd.microsoft.datawrangler.viewer.v0+json": {
       "columns": [
        {
         "name": "repaglinide",
         "rawType": "object",
         "type": "string"
        },
        {
         "name": "count",
         "rawType": "int64",
         "type": "integer"
        }
       ],
       "ref": "ec2fa33c-50be-466a-916a-bc07f494df33",
       "rows": [
        [
         "Down",
         "45"
        ],
        [
         "No",
         "100227"
        ],
        [
         "Steady",
         "1384"
        ],
        [
         "Up",
         "110"
        ]
       ],
       "shape": {
        "columns": 1,
        "rows": 4
       }
      },
      "text/plain": [
       "repaglinide\n",
       "Down          45\n",
       "No        100227\n",
       "Steady      1384\n",
       "Up           110\n",
       "Name: count, dtype: int64"
      ]
     },
     "execution_count": 58,
     "metadata": {},
     "output_type": "execute_result"
    }
   ],
   "source": [
    "col = diabetes[column_list[25]]\n",
    "col.value_counts(dropna=False).sort_index()"
   ]
  },
  {
   "cell_type": "code",
   "execution_count": 59,
   "id": "9594e600",
   "metadata": {},
   "outputs": [],
   "source": [
    "string_columns.append(column_list[25])"
   ]
  },
  {
   "cell_type": "code",
   "execution_count": 60,
   "id": "d7798a7b",
   "metadata": {},
   "outputs": [
    {
     "data": {
      "application/vnd.microsoft.datawrangler.viewer.v0+json": {
       "columns": [
        {
         "name": "nateglinide",
         "rawType": "object",
         "type": "string"
        },
        {
         "name": "count",
         "rawType": "int64",
         "type": "integer"
        }
       ],
       "ref": "65ed6021-0a5d-46c1-9faa-58217bd20e5f",
       "rows": [
        [
         "Down",
         "11"
        ],
        [
         "No",
         "101063"
        ],
        [
         "Steady",
         "668"
        ],
        [
         "Up",
         "24"
        ]
       ],
       "shape": {
        "columns": 1,
        "rows": 4
       }
      },
      "text/plain": [
       "nateglinide\n",
       "Down          11\n",
       "No        101063\n",
       "Steady       668\n",
       "Up            24\n",
       "Name: count, dtype: int64"
      ]
     },
     "execution_count": 60,
     "metadata": {},
     "output_type": "execute_result"
    }
   ],
   "source": [
    "col = diabetes[column_list[26]]\n",
    "col.value_counts(dropna=False).sort_index()"
   ]
  },
  {
   "cell_type": "code",
   "execution_count": 61,
   "id": "38b710f3",
   "metadata": {},
   "outputs": [],
   "source": [
    "string_columns.append(column_list[26])"
   ]
  },
  {
   "cell_type": "code",
   "execution_count": 62,
   "id": "a9513e06",
   "metadata": {},
   "outputs": [
    {
     "data": {
      "application/vnd.microsoft.datawrangler.viewer.v0+json": {
       "columns": [
        {
         "name": "chlorpropamide",
         "rawType": "object",
         "type": "string"
        },
        {
         "name": "count",
         "rawType": "int64",
         "type": "integer"
        }
       ],
       "ref": "4bf958d2-5931-4d93-96f2-c0275f60d816",
       "rows": [
        [
         "Down",
         "1"
        ],
        [
         "No",
         "101680"
        ],
        [
         "Steady",
         "79"
        ],
        [
         "Up",
         "6"
        ]
       ],
       "shape": {
        "columns": 1,
        "rows": 4
       }
      },
      "text/plain": [
       "chlorpropamide\n",
       "Down           1\n",
       "No        101680\n",
       "Steady        79\n",
       "Up             6\n",
       "Name: count, dtype: int64"
      ]
     },
     "execution_count": 62,
     "metadata": {},
     "output_type": "execute_result"
    }
   ],
   "source": [
    "col = diabetes[column_list[27]]\n",
    "col.value_counts(dropna=False).sort_index()"
   ]
  },
  {
   "cell_type": "code",
   "execution_count": 63,
   "id": "ca5cad95",
   "metadata": {},
   "outputs": [],
   "source": [
    "string_columns.append(column_list[27])"
   ]
  },
  {
   "cell_type": "code",
   "execution_count": 64,
   "id": "bf8287f2",
   "metadata": {},
   "outputs": [
    {
     "data": {
      "application/vnd.microsoft.datawrangler.viewer.v0+json": {
       "columns": [
        {
         "name": "glimepiride",
         "rawType": "object",
         "type": "string"
        },
        {
         "name": "count",
         "rawType": "int64",
         "type": "integer"
        }
       ],
       "ref": "1647e341-7b59-4f03-b8c8-06bc8b3a8f12",
       "rows": [
        [
         "Down",
         "194"
        ],
        [
         "No",
         "96575"
        ],
        [
         "Steady",
         "4670"
        ],
        [
         "Up",
         "327"
        ]
       ],
       "shape": {
        "columns": 1,
        "rows": 4
       }
      },
      "text/plain": [
       "glimepiride\n",
       "Down        194\n",
       "No        96575\n",
       "Steady     4670\n",
       "Up          327\n",
       "Name: count, dtype: int64"
      ]
     },
     "execution_count": 64,
     "metadata": {},
     "output_type": "execute_result"
    }
   ],
   "source": [
    "col = diabetes[column_list[28]]\n",
    "col.value_counts(dropna=False).sort_index()"
   ]
  },
  {
   "cell_type": "code",
   "execution_count": 65,
   "id": "7a93c206",
   "metadata": {},
   "outputs": [],
   "source": [
    "string_columns.append(column_list[28])"
   ]
  },
  {
   "cell_type": "code",
   "execution_count": 66,
   "id": "144d7347",
   "metadata": {},
   "outputs": [
    {
     "data": {
      "application/vnd.microsoft.datawrangler.viewer.v0+json": {
       "columns": [
        {
         "name": "acetohexamide",
         "rawType": "object",
         "type": "string"
        },
        {
         "name": "count",
         "rawType": "int64",
         "type": "integer"
        }
       ],
       "ref": "9525482d-5d96-41b6-a4a7-e42f4a0dc7fd",
       "rows": [
        [
         "No",
         "101765"
        ],
        [
         "Steady",
         "1"
        ]
       ],
       "shape": {
        "columns": 1,
        "rows": 2
       }
      },
      "text/plain": [
       "acetohexamide\n",
       "No        101765\n",
       "Steady         1\n",
       "Name: count, dtype: int64"
      ]
     },
     "execution_count": 66,
     "metadata": {},
     "output_type": "execute_result"
    }
   ],
   "source": [
    "col = diabetes[column_list[29]]\n",
    "col.value_counts(dropna=False).sort_index()"
   ]
  },
  {
   "cell_type": "code",
   "execution_count": 67,
   "id": "b82e5df7",
   "metadata": {},
   "outputs": [],
   "source": [
    "# ok this is an almost redundant column. drop it. \n",
    "\n",
    "columns_to_drop.append(column_list[29])"
   ]
  },
  {
   "cell_type": "code",
   "execution_count": 68,
   "id": "fe9ca743",
   "metadata": {},
   "outputs": [
    {
     "data": {
      "application/vnd.microsoft.datawrangler.viewer.v0+json": {
       "columns": [
        {
         "name": "glipizide",
         "rawType": "object",
         "type": "string"
        },
        {
         "name": "count",
         "rawType": "int64",
         "type": "integer"
        }
       ],
       "ref": "cd8b47de-00c1-4248-b345-8f3adbff4372",
       "rows": [
        [
         "Down",
         "560"
        ],
        [
         "No",
         "89080"
        ],
        [
         "Steady",
         "11356"
        ],
        [
         "Up",
         "770"
        ]
       ],
       "shape": {
        "columns": 1,
        "rows": 4
       }
      },
      "text/plain": [
       "glipizide\n",
       "Down        560\n",
       "No        89080\n",
       "Steady    11356\n",
       "Up          770\n",
       "Name: count, dtype: int64"
      ]
     },
     "execution_count": 68,
     "metadata": {},
     "output_type": "execute_result"
    }
   ],
   "source": [
    "col = diabetes[column_list[30]]\n",
    "col.value_counts(dropna=False).sort_index()"
   ]
  },
  {
   "cell_type": "code",
   "execution_count": 69,
   "id": "32be436a",
   "metadata": {},
   "outputs": [],
   "source": [
    "string_columns.append(column_list[30])"
   ]
  },
  {
   "cell_type": "code",
   "execution_count": 70,
   "id": "7729a824",
   "metadata": {},
   "outputs": [
    {
     "data": {
      "application/vnd.microsoft.datawrangler.viewer.v0+json": {
       "columns": [
        {
         "name": "glyburide",
         "rawType": "object",
         "type": "string"
        },
        {
         "name": "count",
         "rawType": "int64",
         "type": "integer"
        }
       ],
       "ref": "364f4cab-a0e2-4a14-b218-9ed2ebea4372",
       "rows": [
        [
         "Down",
         "564"
        ],
        [
         "No",
         "91116"
        ],
        [
         "Steady",
         "9274"
        ],
        [
         "Up",
         "812"
        ]
       ],
       "shape": {
        "columns": 1,
        "rows": 4
       }
      },
      "text/plain": [
       "glyburide\n",
       "Down        564\n",
       "No        91116\n",
       "Steady     9274\n",
       "Up          812\n",
       "Name: count, dtype: int64"
      ]
     },
     "execution_count": 70,
     "metadata": {},
     "output_type": "execute_result"
    }
   ],
   "source": [
    "col = diabetes[column_list[31]]\n",
    "col.value_counts(dropna=False).sort_index()"
   ]
  },
  {
   "cell_type": "code",
   "execution_count": 71,
   "id": "b4a02021",
   "metadata": {},
   "outputs": [],
   "source": [
    "string_columns.append(column_list[31])"
   ]
  },
  {
   "cell_type": "code",
   "execution_count": 72,
   "id": "26f37582",
   "metadata": {},
   "outputs": [
    {
     "data": {
      "application/vnd.microsoft.datawrangler.viewer.v0+json": {
       "columns": [
        {
         "name": "tolbutamide",
         "rawType": "object",
         "type": "string"
        },
        {
         "name": "count",
         "rawType": "int64",
         "type": "integer"
        }
       ],
       "ref": "266860c9-ef9d-4e69-8de4-e07db76c6ad9",
       "rows": [
        [
         "No",
         "101743"
        ],
        [
         "Steady",
         "23"
        ]
       ],
       "shape": {
        "columns": 1,
        "rows": 2
       }
      },
      "text/plain": [
       "tolbutamide\n",
       "No        101743\n",
       "Steady        23\n",
       "Name: count, dtype: int64"
      ]
     },
     "execution_count": 72,
     "metadata": {},
     "output_type": "execute_result"
    }
   ],
   "source": [
    "col = diabetes[column_list[32]]\n",
    "col.value_counts(dropna=False).sort_index()"
   ]
  },
  {
   "cell_type": "code",
   "execution_count": 73,
   "id": "c8684390",
   "metadata": {},
   "outputs": [],
   "source": [
    "# this is prolly another redundant column \n",
    "columns_to_drop.append(column_list[32])"
   ]
  },
  {
   "cell_type": "code",
   "execution_count": 74,
   "id": "c59db697",
   "metadata": {},
   "outputs": [
    {
     "data": {
      "application/vnd.microsoft.datawrangler.viewer.v0+json": {
       "columns": [
        {
         "name": "pioglitazone",
         "rawType": "object",
         "type": "string"
        },
        {
         "name": "count",
         "rawType": "int64",
         "type": "integer"
        }
       ],
       "ref": "a5350aa6-9402-45cf-b125-eac2e18e4f03",
       "rows": [
        [
         "Down",
         "118"
        ],
        [
         "No",
         "94438"
        ],
        [
         "Steady",
         "6976"
        ],
        [
         "Up",
         "234"
        ]
       ],
       "shape": {
        "columns": 1,
        "rows": 4
       }
      },
      "text/plain": [
       "pioglitazone\n",
       "Down        118\n",
       "No        94438\n",
       "Steady     6976\n",
       "Up          234\n",
       "Name: count, dtype: int64"
      ]
     },
     "execution_count": 74,
     "metadata": {},
     "output_type": "execute_result"
    }
   ],
   "source": [
    "col = diabetes[column_list[33]]\n",
    "col.value_counts(dropna=False).sort_index()"
   ]
  },
  {
   "cell_type": "code",
   "execution_count": 75,
   "id": "7261d7ee",
   "metadata": {},
   "outputs": [],
   "source": [
    "string_columns.append(column_list[33])"
   ]
  },
  {
   "cell_type": "code",
   "execution_count": 76,
   "id": "b77905b3",
   "metadata": {},
   "outputs": [
    {
     "data": {
      "application/vnd.microsoft.datawrangler.viewer.v0+json": {
       "columns": [
        {
         "name": "rosiglitazone",
         "rawType": "object",
         "type": "string"
        },
        {
         "name": "count",
         "rawType": "int64",
         "type": "integer"
        }
       ],
       "ref": "4dc1e53b-f438-4713-bdca-3567fa512eed",
       "rows": [
        [
         "Down",
         "87"
        ],
        [
         "No",
         "95401"
        ],
        [
         "Steady",
         "6100"
        ],
        [
         "Up",
         "178"
        ]
       ],
       "shape": {
        "columns": 1,
        "rows": 4
       }
      },
      "text/plain": [
       "rosiglitazone\n",
       "Down         87\n",
       "No        95401\n",
       "Steady     6100\n",
       "Up          178\n",
       "Name: count, dtype: int64"
      ]
     },
     "execution_count": 76,
     "metadata": {},
     "output_type": "execute_result"
    }
   ],
   "source": [
    "col = diabetes[column_list[34]]\n",
    "col.value_counts(dropna=False).sort_index()"
   ]
  },
  {
   "cell_type": "code",
   "execution_count": 77,
   "id": "ad5da750",
   "metadata": {},
   "outputs": [],
   "source": [
    "string_columns.append(column_list[34])"
   ]
  },
  {
   "cell_type": "code",
   "execution_count": 78,
   "id": "b24fb800",
   "metadata": {},
   "outputs": [
    {
     "data": {
      "application/vnd.microsoft.datawrangler.viewer.v0+json": {
       "columns": [
        {
         "name": "acarbose",
         "rawType": "object",
         "type": "string"
        },
        {
         "name": "count",
         "rawType": "int64",
         "type": "integer"
        }
       ],
       "ref": "1ff34435-3d40-43b5-9300-b43dcc1fe586",
       "rows": [
        [
         "Down",
         "3"
        ],
        [
         "No",
         "101458"
        ],
        [
         "Steady",
         "295"
        ],
        [
         "Up",
         "10"
        ]
       ],
       "shape": {
        "columns": 1,
        "rows": 4
       }
      },
      "text/plain": [
       "acarbose\n",
       "Down           3\n",
       "No        101458\n",
       "Steady       295\n",
       "Up            10\n",
       "Name: count, dtype: int64"
      ]
     },
     "execution_count": 78,
     "metadata": {},
     "output_type": "execute_result"
    }
   ],
   "source": [
    "col = diabetes[column_list[35]]\n",
    "col.value_counts(dropna=False).sort_index()"
   ]
  },
  {
   "cell_type": "code",
   "execution_count": 79,
   "id": "279cba1c",
   "metadata": {},
   "outputs": [],
   "source": [
    "# prolly can drop too \n",
    "columns_to_drop.append(column_list[35])"
   ]
  },
  {
   "cell_type": "code",
   "execution_count": 80,
   "id": "0215329b",
   "metadata": {},
   "outputs": [
    {
     "data": {
      "application/vnd.microsoft.datawrangler.viewer.v0+json": {
       "columns": [
        {
         "name": "miglitol",
         "rawType": "object",
         "type": "string"
        },
        {
         "name": "count",
         "rawType": "int64",
         "type": "integer"
        }
       ],
       "ref": "1b3622ec-f5f4-4a10-9141-289e6318a2a6",
       "rows": [
        [
         "Down",
         "5"
        ],
        [
         "No",
         "101728"
        ],
        [
         "Steady",
         "31"
        ],
        [
         "Up",
         "2"
        ]
       ],
       "shape": {
        "columns": 1,
        "rows": 4
       }
      },
      "text/plain": [
       "miglitol\n",
       "Down           5\n",
       "No        101728\n",
       "Steady        31\n",
       "Up             2\n",
       "Name: count, dtype: int64"
      ]
     },
     "execution_count": 80,
     "metadata": {},
     "output_type": "execute_result"
    }
   ],
   "source": [
    "col = diabetes[column_list[36]]\n",
    "col.value_counts(dropna=False).sort_index()"
   ]
  },
  {
   "cell_type": "code",
   "execution_count": 81,
   "id": "ef394d53",
   "metadata": {},
   "outputs": [],
   "source": [
    "# prolly can drop too \n",
    "columns_to_drop.append(column_list[36])"
   ]
  },
  {
   "cell_type": "code",
   "execution_count": 82,
   "id": "ecdcd519",
   "metadata": {},
   "outputs": [
    {
     "data": {
      "application/vnd.microsoft.datawrangler.viewer.v0+json": {
       "columns": [
        {
         "name": "troglitazone",
         "rawType": "object",
         "type": "string"
        },
        {
         "name": "count",
         "rawType": "int64",
         "type": "integer"
        }
       ],
       "ref": "e1088f2e-f50b-43d6-a6e7-ee5662207fe5",
       "rows": [
        [
         "No",
         "101763"
        ],
        [
         "Steady",
         "3"
        ]
       ],
       "shape": {
        "columns": 1,
        "rows": 2
       }
      },
      "text/plain": [
       "troglitazone\n",
       "No        101763\n",
       "Steady         3\n",
       "Name: count, dtype: int64"
      ]
     },
     "execution_count": 82,
     "metadata": {},
     "output_type": "execute_result"
    }
   ],
   "source": [
    "col = diabetes[column_list[37]]\n",
    "col.value_counts(dropna=False).sort_index()"
   ]
  },
  {
   "cell_type": "code",
   "execution_count": 83,
   "id": "c5c94b08",
   "metadata": {},
   "outputs": [],
   "source": [
    "# prolly can drop too \n",
    "columns_to_drop.append(column_list[37])"
   ]
  },
  {
   "cell_type": "code",
   "execution_count": 84,
   "id": "e0defe73",
   "metadata": {},
   "outputs": [
    {
     "data": {
      "application/vnd.microsoft.datawrangler.viewer.v0+json": {
       "columns": [
        {
         "name": "tolazamide",
         "rawType": "object",
         "type": "string"
        },
        {
         "name": "count",
         "rawType": "int64",
         "type": "integer"
        }
       ],
       "ref": "84ea6643-c73a-45d9-be7e-df64f270692b",
       "rows": [
        [
         "No",
         "101727"
        ],
        [
         "Steady",
         "38"
        ],
        [
         "Up",
         "1"
        ]
       ],
       "shape": {
        "columns": 1,
        "rows": 3
       }
      },
      "text/plain": [
       "tolazamide\n",
       "No        101727\n",
       "Steady        38\n",
       "Up             1\n",
       "Name: count, dtype: int64"
      ]
     },
     "execution_count": 84,
     "metadata": {},
     "output_type": "execute_result"
    }
   ],
   "source": [
    "col = diabetes[column_list[38]]\n",
    "col.value_counts(dropna=False).sort_index()"
   ]
  },
  {
   "cell_type": "code",
   "execution_count": 85,
   "id": "2516ba2a",
   "metadata": {},
   "outputs": [],
   "source": [
    "columns_to_drop.append(column_list[38])"
   ]
  },
  {
   "cell_type": "code",
   "execution_count": 86,
   "id": "da9fbb43",
   "metadata": {},
   "outputs": [
    {
     "data": {
      "application/vnd.microsoft.datawrangler.viewer.v0+json": {
       "columns": [
        {
         "name": "examide",
         "rawType": "object",
         "type": "string"
        },
        {
         "name": "count",
         "rawType": "int64",
         "type": "integer"
        }
       ],
       "ref": "2cd996df-369a-4545-8e0e-4306392ba1c6",
       "rows": [
        [
         "No",
         "101766"
        ]
       ],
       "shape": {
        "columns": 1,
        "rows": 1
       }
      },
      "text/plain": [
       "examide\n",
       "No    101766\n",
       "Name: count, dtype: int64"
      ]
     },
     "execution_count": 86,
     "metadata": {},
     "output_type": "execute_result"
    }
   ],
   "source": [
    "col = diabetes[column_list[39]]\n",
    "col.value_counts(dropna=False).sort_index()"
   ]
  },
  {
   "cell_type": "code",
   "execution_count": 87,
   "id": "94d2257c",
   "metadata": {},
   "outputs": [],
   "source": [
    "columns_to_drop.append(column_list[39])"
   ]
  },
  {
   "cell_type": "code",
   "execution_count": 88,
   "id": "3d4a8455",
   "metadata": {},
   "outputs": [
    {
     "data": {
      "application/vnd.microsoft.datawrangler.viewer.v0+json": {
       "columns": [
        {
         "name": "citoglipton",
         "rawType": "object",
         "type": "string"
        },
        {
         "name": "count",
         "rawType": "int64",
         "type": "integer"
        }
       ],
       "ref": "fdacc645-eb67-41c1-8fd2-a39ccd06fffc",
       "rows": [
        [
         "No",
         "101766"
        ]
       ],
       "shape": {
        "columns": 1,
        "rows": 1
       }
      },
      "text/plain": [
       "citoglipton\n",
       "No    101766\n",
       "Name: count, dtype: int64"
      ]
     },
     "execution_count": 88,
     "metadata": {},
     "output_type": "execute_result"
    }
   ],
   "source": [
    "col = diabetes[column_list[40]]\n",
    "col.value_counts(dropna=False).sort_index()"
   ]
  },
  {
   "cell_type": "code",
   "execution_count": 89,
   "id": "3893465d",
   "metadata": {},
   "outputs": [],
   "source": [
    "columns_to_drop.append(column_list[40])"
   ]
  },
  {
   "cell_type": "code",
   "execution_count": 90,
   "id": "1b411692",
   "metadata": {},
   "outputs": [
    {
     "data": {
      "application/vnd.microsoft.datawrangler.viewer.v0+json": {
       "columns": [
        {
         "name": "insulin",
         "rawType": "object",
         "type": "string"
        },
        {
         "name": "count",
         "rawType": "int64",
         "type": "integer"
        }
       ],
       "ref": "acffb2eb-de5e-47f7-8151-0bb4b1390b0d",
       "rows": [
        [
         "Down",
         "12218"
        ],
        [
         "No",
         "47383"
        ],
        [
         "Steady",
         "30849"
        ],
        [
         "Up",
         "11316"
        ]
       ],
       "shape": {
        "columns": 1,
        "rows": 4
       }
      },
      "text/plain": [
       "insulin\n",
       "Down      12218\n",
       "No        47383\n",
       "Steady    30849\n",
       "Up        11316\n",
       "Name: count, dtype: int64"
      ]
     },
     "execution_count": 90,
     "metadata": {},
     "output_type": "execute_result"
    }
   ],
   "source": [
    "col = diabetes[column_list[41]]\n",
    "col.value_counts(dropna=False).sort_index()"
   ]
  },
  {
   "cell_type": "code",
   "execution_count": 91,
   "id": "9ad652d7",
   "metadata": {},
   "outputs": [],
   "source": [
    "string_columns.append(column_list[41])"
   ]
  },
  {
   "cell_type": "markdown",
   "id": "cc82f4d5",
   "metadata": {},
   "source": []
  },
  {
   "cell_type": "code",
   "execution_count": 92,
   "id": "e66dfd8c",
   "metadata": {},
   "outputs": [
    {
     "data": {
      "application/vnd.microsoft.datawrangler.viewer.v0+json": {
       "columns": [
        {
         "name": "glyburide-metformin",
         "rawType": "object",
         "type": "string"
        },
        {
         "name": "count",
         "rawType": "int64",
         "type": "integer"
        }
       ],
       "ref": "d37fa3d3-856a-4dca-bc26-d37c2b2e808d",
       "rows": [
        [
         "Down",
         "6"
        ],
        [
         "No",
         "101060"
        ],
        [
         "Steady",
         "692"
        ],
        [
         "Up",
         "8"
        ]
       ],
       "shape": {
        "columns": 1,
        "rows": 4
       }
      },
      "text/plain": [
       "glyburide-metformin\n",
       "Down           6\n",
       "No        101060\n",
       "Steady       692\n",
       "Up             8\n",
       "Name: count, dtype: int64"
      ]
     },
     "execution_count": 92,
     "metadata": {},
     "output_type": "execute_result"
    }
   ],
   "source": [
    "col = diabetes[column_list[42]]\n",
    "col.value_counts(dropna=False).sort_index()"
   ]
  },
  {
   "cell_type": "code",
   "execution_count": 93,
   "id": "c4e2a2dd",
   "metadata": {},
   "outputs": [],
   "source": [
    "columns_to_drop.append(column_list[42])"
   ]
  },
  {
   "cell_type": "code",
   "execution_count": 94,
   "id": "070bf94f",
   "metadata": {},
   "outputs": [
    {
     "data": {
      "application/vnd.microsoft.datawrangler.viewer.v0+json": {
       "columns": [
        {
         "name": "glipizide-metformin",
         "rawType": "object",
         "type": "string"
        },
        {
         "name": "count",
         "rawType": "int64",
         "type": "integer"
        }
       ],
       "ref": "28f3ef97-f35e-4bd2-a2b2-9b8f9005a1fc",
       "rows": [
        [
         "No",
         "101753"
        ],
        [
         "Steady",
         "13"
        ]
       ],
       "shape": {
        "columns": 1,
        "rows": 2
       }
      },
      "text/plain": [
       "glipizide-metformin\n",
       "No        101753\n",
       "Steady        13\n",
       "Name: count, dtype: int64"
      ]
     },
     "execution_count": 94,
     "metadata": {},
     "output_type": "execute_result"
    }
   ],
   "source": [
    "col = diabetes[column_list[43]]\n",
    "col.value_counts(dropna=False).sort_index()"
   ]
  },
  {
   "cell_type": "code",
   "execution_count": 95,
   "id": "618bc49d",
   "metadata": {},
   "outputs": [],
   "source": [
    "columns_to_drop.append(column_list[43])"
   ]
  },
  {
   "cell_type": "code",
   "execution_count": 96,
   "id": "1c2c0344",
   "metadata": {},
   "outputs": [
    {
     "data": {
      "application/vnd.microsoft.datawrangler.viewer.v0+json": {
       "columns": [
        {
         "name": "glimepiride-pioglitazone",
         "rawType": "object",
         "type": "string"
        },
        {
         "name": "count",
         "rawType": "int64",
         "type": "integer"
        }
       ],
       "ref": "535b0527-2b57-440d-98c7-becb76896aa5",
       "rows": [
        [
         "No",
         "101765"
        ],
        [
         "Steady",
         "1"
        ]
       ],
       "shape": {
        "columns": 1,
        "rows": 2
       }
      },
      "text/plain": [
       "glimepiride-pioglitazone\n",
       "No        101765\n",
       "Steady         1\n",
       "Name: count, dtype: int64"
      ]
     },
     "execution_count": 96,
     "metadata": {},
     "output_type": "execute_result"
    }
   ],
   "source": [
    "col = diabetes[column_list[44]]\n",
    "col.value_counts(dropna=False).sort_index()"
   ]
  },
  {
   "cell_type": "code",
   "execution_count": 97,
   "id": "e7fe6916",
   "metadata": {},
   "outputs": [],
   "source": [
    "columns_to_drop.append(column_list[44])"
   ]
  },
  {
   "cell_type": "code",
   "execution_count": 98,
   "id": "6a94b27e",
   "metadata": {},
   "outputs": [
    {
     "data": {
      "application/vnd.microsoft.datawrangler.viewer.v0+json": {
       "columns": [
        {
         "name": "metformin-rosiglitazone",
         "rawType": "object",
         "type": "string"
        },
        {
         "name": "count",
         "rawType": "int64",
         "type": "integer"
        }
       ],
       "ref": "1bed32e3-cafe-4cad-89a4-6bd35990275b",
       "rows": [
        [
         "No",
         "101764"
        ],
        [
         "Steady",
         "2"
        ]
       ],
       "shape": {
        "columns": 1,
        "rows": 2
       }
      },
      "text/plain": [
       "metformin-rosiglitazone\n",
       "No        101764\n",
       "Steady         2\n",
       "Name: count, dtype: int64"
      ]
     },
     "execution_count": 98,
     "metadata": {},
     "output_type": "execute_result"
    }
   ],
   "source": [
    "col = diabetes[column_list[45]]\n",
    "col.value_counts(dropna=False).sort_index()\n",
    "\n"
   ]
  },
  {
   "cell_type": "code",
   "execution_count": 99,
   "id": "f5715926",
   "metadata": {},
   "outputs": [],
   "source": [
    "columns_to_drop.append(column_list[45])"
   ]
  },
  {
   "cell_type": "code",
   "execution_count": 100,
   "id": "97c27528",
   "metadata": {},
   "outputs": [
    {
     "data": {
      "application/vnd.microsoft.datawrangler.viewer.v0+json": {
       "columns": [
        {
         "name": "metformin-pioglitazone",
         "rawType": "object",
         "type": "string"
        },
        {
         "name": "count",
         "rawType": "int64",
         "type": "integer"
        }
       ],
       "ref": "f49cae01-3636-4793-b820-682a444440e2",
       "rows": [
        [
         "No",
         "101765"
        ],
        [
         "Steady",
         "1"
        ]
       ],
       "shape": {
        "columns": 1,
        "rows": 2
       }
      },
      "text/plain": [
       "metformin-pioglitazone\n",
       "No        101765\n",
       "Steady         1\n",
       "Name: count, dtype: int64"
      ]
     },
     "execution_count": 100,
     "metadata": {},
     "output_type": "execute_result"
    }
   ],
   "source": [
    "col = diabetes[column_list[46]]\n",
    "col.value_counts(dropna=False).sort_index()\n"
   ]
  },
  {
   "cell_type": "code",
   "execution_count": 101,
   "id": "9e8e3cf4",
   "metadata": {},
   "outputs": [],
   "source": [
    "columns_to_drop.append(column_list[46])"
   ]
  },
  {
   "cell_type": "code",
   "execution_count": 102,
   "id": "3e3ca308",
   "metadata": {},
   "outputs": [
    {
     "data": {
      "application/vnd.microsoft.datawrangler.viewer.v0+json": {
       "columns": [
        {
         "name": "change",
         "rawType": "object",
         "type": "string"
        },
        {
         "name": "count",
         "rawType": "int64",
         "type": "integer"
        }
       ],
       "ref": "c1e14dd7-ec6f-405d-9d46-645e0919464e",
       "rows": [
        [
         "Ch",
         "47011"
        ],
        [
         "No",
         "54755"
        ]
       ],
       "shape": {
        "columns": 1,
        "rows": 2
       }
      },
      "text/plain": [
       "change\n",
       "Ch    47011\n",
       "No    54755\n",
       "Name: count, dtype: int64"
      ]
     },
     "execution_count": 102,
     "metadata": {},
     "output_type": "execute_result"
    }
   ],
   "source": [
    "col = diabetes[column_list[47]]\n",
    "col.value_counts(dropna=False).sort_index()"
   ]
  },
  {
   "cell_type": "code",
   "execution_count": 103,
   "id": "833749a8",
   "metadata": {},
   "outputs": [],
   "source": [
    "string_columns.append(column_list[47])"
   ]
  },
  {
   "cell_type": "code",
   "execution_count": 104,
   "id": "69ef1f4a",
   "metadata": {},
   "outputs": [
    {
     "data": {
      "application/vnd.microsoft.datawrangler.viewer.v0+json": {
       "columns": [
        {
         "name": "diabetesMed",
         "rawType": "object",
         "type": "string"
        },
        {
         "name": "count",
         "rawType": "int64",
         "type": "integer"
        }
       ],
       "ref": "58da4919-143d-4246-95d1-2e60108e7b35",
       "rows": [
        [
         "No",
         "23403"
        ],
        [
         "Yes",
         "78363"
        ]
       ],
       "shape": {
        "columns": 1,
        "rows": 2
       }
      },
      "text/plain": [
       "diabetesMed\n",
       "No     23403\n",
       "Yes    78363\n",
       "Name: count, dtype: int64"
      ]
     },
     "execution_count": 104,
     "metadata": {},
     "output_type": "execute_result"
    }
   ],
   "source": [
    "col = diabetes[column_list[48]]\n",
    "col.value_counts(dropna=False).sort_index()"
   ]
  },
  {
   "cell_type": "code",
   "execution_count": 105,
   "id": "9f062304",
   "metadata": {},
   "outputs": [],
   "source": [
    "string_columns.append(column_list[48])"
   ]
  },
  {
   "cell_type": "code",
   "execution_count": 106,
   "id": "c37cbe57",
   "metadata": {},
   "outputs": [
    {
     "data": {
      "application/vnd.microsoft.datawrangler.viewer.v0+json": {
       "columns": [
        {
         "name": "readmitted",
         "rawType": "object",
         "type": "string"
        },
        {
         "name": "count",
         "rawType": "int64",
         "type": "integer"
        }
       ],
       "ref": "c6bc58b5-6f91-4808-bbdb-44fd20579ab3",
       "rows": [
        [
         "<30",
         "11357"
        ],
        [
         ">30",
         "35545"
        ],
        [
         "NO",
         "54864"
        ]
       ],
       "shape": {
        "columns": 1,
        "rows": 3
       }
      },
      "text/plain": [
       "readmitted\n",
       "<30    11357\n",
       ">30    35545\n",
       "NO     54864\n",
       "Name: count, dtype: int64"
      ]
     },
     "execution_count": 106,
     "metadata": {},
     "output_type": "execute_result"
    }
   ],
   "source": [
    "col = diabetes[column_list[49]]\n",
    "col.value_counts(dropna=False).sort_index()"
   ]
  },
  {
   "cell_type": "code",
   "execution_count": 107,
   "id": "e63b309d",
   "metadata": {},
   "outputs": [],
   "source": [
    "string_columns.append(column_list[49])"
   ]
  },
  {
   "cell_type": "code",
   "execution_count": 108,
   "id": "b3a0b2d0",
   "metadata": {},
   "outputs": [
    {
     "name": "stdout",
     "output_type": "stream",
     "text": [
      "['encounter_id', 'patient_nbr', 'admission_type_id', 'discharge_disposition_id', 'admission_source_id', 'time_in_hospital', 'num_lab_procedures', 'num_procedures', 'num_medications', 'number_outpatient', 'number_emergency', 'number_inpatient', 'number_diagnoses']\n",
      "['race', 'age', 'diag_1', 'diag_2', 'diag_3', 'metformin', 'repaglinide', 'nateglinide', 'chlorpropamide', 'glimepiride', 'glipizide', 'glyburide', 'pioglitazone', 'rosiglitazone', 'insulin', 'change', 'diabetesMed', 'readmitted']\n"
     ]
    }
   ],
   "source": [
    "print(int_columns)\n",
    "print(string_columns)\n",
    "\n"
   ]
  },
  {
   "cell_type": "code",
   "execution_count": 109,
   "id": "d4490c77",
   "metadata": {},
   "outputs": [],
   "source": [
    "clean_diabetes = diabetes.copy()\n",
    "clean_diabetes.drop(columns_to_drop, axis=1, inplace=True)\n",
    "clean_diabetes = clean_diabetes[retain_rows]"
   ]
  },
  {
   "cell_type": "code",
   "execution_count": 110,
   "id": "fa2e8915",
   "metadata": {},
   "outputs": [
    {
     "data": {
      "text/plain": [
       "Index(['encounter_id', 'patient_nbr', 'race', 'gender', 'age',\n",
       "       'admission_type_id', 'discharge_disposition_id', 'admission_source_id',\n",
       "       'time_in_hospital', 'num_lab_procedures', 'num_procedures',\n",
       "       'num_medications', 'number_outpatient', 'number_emergency',\n",
       "       'number_inpatient', 'diag_1', 'diag_2', 'diag_3', 'number_diagnoses',\n",
       "       'metformin', 'repaglinide', 'nateglinide', 'chlorpropamide',\n",
       "       'glimepiride', 'glipizide', 'glyburide', 'pioglitazone',\n",
       "       'rosiglitazone', 'insulin', 'change', 'diabetesMed', 'readmitted'],\n",
       "      dtype='object')"
      ]
     },
     "execution_count": 110,
     "metadata": {},
     "output_type": "execute_result"
    }
   ],
   "source": [
    "clean_diabetes = diabetes.copy()\n",
    "clean_diabetes.drop(columns_to_drop, axis=1, inplace=True)\n",
    "clean_diabetes = clean_diabetes[retain_rows]\n",
    "clean_diabetes.columns"
   ]
  },
  {
   "cell_type": "code",
   "execution_count": 111,
   "id": "1274ef7c",
   "metadata": {},
   "outputs": [],
   "source": [
    "clean_diabetes.to_csv(\"clean_diabetes.csv\",index=False)"
   ]
  },
  {
   "cell_type": "code",
   "execution_count": null,
   "id": "98ed7ea5",
   "metadata": {},
   "outputs": [],
   "source": []
  }
 ],
 "metadata": {
  "kernelspec": {
   "display_name": "Python 3",
   "language": "python",
   "name": "python3"
  },
  "language_info": {
   "codemirror_mode": {
    "name": "ipython",
    "version": 3
   },
   "file_extension": ".py",
   "mimetype": "text/x-python",
   "name": "python",
   "nbconvert_exporter": "python",
   "pygments_lexer": "ipython3",
   "version": "3.11.1"
  }
 },
 "nbformat": 4,
 "nbformat_minor": 5
}
